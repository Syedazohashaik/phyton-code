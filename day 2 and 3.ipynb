{
 "cells": [
  {
   "cell_type": "code",
   "execution_count": 1,
   "id": "66082b8f-c882-4479-84e1-68091a2eeedf",
   "metadata": {},
   "outputs": [
    {
     "name": "stdin",
     "output_type": "stream",
     "text": [
      " 4\n",
      " 2\n"
     ]
    },
    {
     "name": "stdout",
     "output_type": "stream",
     "text": [
      "Sum:  6\n",
      "Subtraction:  2\n",
      "Multiplication:  8\n",
      "Division:  2.0\n",
      "Modules:  0\n",
      "Power:  16\n"
     ]
    }
   ],
   "source": [
    "#arithematic operators\n",
    "a=int(input())\n",
    "b=int(input())\n",
    "\n",
    "#addition\n",
    "print ('Sum: ', a + b)  \n",
    "\n",
    "# subtraction\n",
    "print ('Subtraction: ', a - b)   \n",
    "\n",
    "# multiplication\n",
    "print ('Multiplication: ', a * b)  \n",
    "\n",
    "# division\n",
    "print ('Division: ', a / b) \n",
    "\n",
    "# modules\n",
    "print ('Modules: ', a % b)  \n",
    "\n",
    "# a to the power b\n",
    "print ('Power: ', a ** b)"
   ]
  },
  {
   "cell_type": "code",
   "execution_count": 2,
   "id": "3e724cea-67f5-4bdd-b5c5-8fe26f409efd",
   "metadata": {},
   "outputs": [
    {
     "name": "stdin",
     "output_type": "stream",
     "text": [
      "enter a character: #\n"
     ]
    },
    {
     "name": "stdout",
     "output_type": "stream",
     "text": [
      "special character\n"
     ]
    }
   ],
   "source": [
    "#identifying \n",
    "a=input(\"enter a character:\")\n",
    "if a.islower():\n",
    "    print(\"lowercase character\")\n",
    "else:\n",
    "    if a.isupper():\n",
    "        print(\"uppercase character\")\n",
    "    else:\n",
    "        if a.isdigit():\n",
    "            print(\"numeric character\")\n",
    "        else:\n",
    "            print(\"special character\")"
   ]
  },
  {
   "cell_type": "code",
   "execution_count": 3,
   "id": "484e56b6-f06c-42b9-bd91-134a5a33ef52",
   "metadata": {},
   "outputs": [
    {
     "name": "stdin",
     "output_type": "stream",
     "text": [
      "Enter a string:  2\n"
     ]
    },
    {
     "name": "stdout",
     "output_type": "stream",
     "text": [
      "The string is a palindrome\n"
     ]
    }
   ],
   "source": [
    "#palindrome\n",
    "string = input(\"Enter a string: \")\n",
    "\n",
    "if string == string[::-1]:\n",
    "    print(\"The string is a palindrome\")\n",
    "else:\n",
    "    print(\"The string is not a palindrome\")"
   ]
  },
  {
   "cell_type": "code",
   "execution_count": 4,
   "id": "74c9c4e2-f4b4-4268-b3c9-dcf663836872",
   "metadata": {},
   "outputs": [
    {
     "name": "stdout",
     "output_type": "stream",
     "text": [
      "6\n",
      "4\n",
      "3\n",
      "2\n",
      "1\n"
     ]
    }
   ],
   "source": [
    "#reverse no.\n",
    "a=[1,2,3,4,6]\n",
    "for x in range(-1,-1*(len(a)+1),-1):\n",
    "    print(a[x])"
   ]
  },
  {
   "cell_type": "code",
   "execution_count": 5,
   "id": "dd5f13c8-85c2-4c8c-a630-a7c80f8a21bf",
   "metadata": {},
   "outputs": [
    {
     "name": "stdin",
     "output_type": "stream",
     "text": [
      "enter a number: 6\n"
     ]
    },
    {
     "name": "stdout",
     "output_type": "stream",
     "text": [
      "factorial of the given number is: 720\n"
     ]
    }
   ],
   "source": [
    "#factorial number\n",
    "n=int(input(\"enter a number:\"))\n",
    "fact=1\n",
    "if n>=1:\n",
    "    for i in range(1,n+1):\n",
    "        fact=fact*i\n",
    "print(\"factorial of the given number is:\",fact)"
   ]
  },
  {
   "cell_type": "code",
   "execution_count": 6,
   "id": "b29ec1a9-4adf-4edb-9864-d49b1f4c3656",
   "metadata": {},
   "outputs": [
    {
     "name": "stdout",
     "output_type": "stream",
     "text": [
      "Input List: [1, 2, 3, 'a', 4.5, 'b', 5]\n",
      "Ignoring non-numeric value: a\n",
      "Ignoring non-numeric value: b\n",
      "Sum of all numeric elements in the list: 15.5\n"
     ]
    }
   ],
   "source": [
    "def calculate_sum(input_list):\n",
    "    total = 0\n",
    "    for element in input_list:\n",
    "        if isinstance(element, (int, float)):\n",
    "            total += element\n",
    "        else:\n",
    "            print(f\"Ignoring non-numeric value: {element}\")\n",
    "    return total\n",
    "\n",
    "input_list = [1, 2, 3, 'a', 4.5, 'b', 5]\n",
    "print(\"Input List:\", input_list)\n",
    "\n",
    "sum_of_list = calculate_sum(input_list)\n",
    "print(\"Sum of all numeric elements in the list:\", sum_of_list)"
   ]
  },
  {
   "cell_type": "code",
   "execution_count": 7,
   "id": "fabe73af-fa0b-4795-b06c-adb933e2baf9",
   "metadata": {},
   "outputs": [
    {
     "name": "stdin",
     "output_type": "stream",
     "text": [
      "Enter the student's name:  zoha\n",
      "Enter marks for Subject 1:  20\n",
      "Enter marks for Subject 2:  19\n",
      "Enter marks for Subject 3:  20\n"
     ]
    },
    {
     "name": "stdout",
     "output_type": "stream",
     "text": [
      "{'Subject 1': 20.0, 'Subject 2': 19.0, 'Subject 3': 20.0, 'Average Grade': 19.666666666666668}\n",
      "Average Grade: 19.666666666666668\n"
     ]
    }
   ],
   "source": [
    "student = {}\n",
    "name = input(\"Enter the student's name: \")\n",
    "marks = []\n",
    "\n",
    "for subject in range(1, 4):\n",
    "    mark = float(input(f\"Enter marks for Subject {subject}: \"))\n",
    "    marks.append(mark)\n",
    "\n",
    "average_grade = sum(marks) / len(marks)\n",
    "student[name] = {'Subject 1': marks[0], 'Subject 2': marks[1], 'Subject 3': marks[2], 'Average Grade': average_grade}\n",
    "\n",
    "print(student[name])\n",
    "print(\"Average Grade:\",average_grade)"
   ]
  },
  {
   "cell_type": "code",
   "execution_count": null,
   "id": "04db4f4d-dcb3-43fa-b298-bdd98327722b",
   "metadata": {},
   "outputs": [],
   "source": []
  }
 ],
 "metadata": {
  "kernelspec": {
   "display_name": "Python 3 (ipykernel)",
   "language": "python",
   "name": "python3"
  },
  "language_info": {
   "codemirror_mode": {
    "name": "ipython",
    "version": 3
   },
   "file_extension": ".py",
   "mimetype": "text/x-python",
   "name": "python",
   "nbconvert_exporter": "python",
   "pygments_lexer": "ipython3",
   "version": "3.12.3"
  }
 },
 "nbformat": 4,
 "nbformat_minor": 5
}
