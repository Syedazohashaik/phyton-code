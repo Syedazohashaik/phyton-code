{
 "cells": [
  {
   "cell_type": "code",
   "execution_count": 3,
   "id": "f744f788-046d-47cf-b2ad-f6669a040e40",
   "metadata": {},
   "outputs": [
    {
     "name": "stdin",
     "output_type": "stream",
     "text": [
      " @\n"
     ]
    },
    {
     "name": "stdout",
     "output_type": "stream",
     "text": [
      "A is a special characher\n"
     ]
    }
   ],
   "source": [
    "a=input()\n",
    "\n",
    "if a.isupper():\n",
    "    print(\"A is a upper case character\")\n",
    "elif a.islower():\n",
    "    print(\"A is a lower case character\")\n",
    "elif a.isnumeric():\n",
    "    print(\"A is a numeric\")\n",
    "else:\n",
    "    print(\"A is a special characher\")\n"
   ]
  },
  {
   "cell_type": "code",
   "execution_count": 19,
   "id": "c5655ce7-3925-4832-aa11-4dd36475c8b5",
   "metadata": {},
   "outputs": [
    {
     "name": "stdin",
     "output_type": "stream",
     "text": [
      "enter the number: 2\n"
     ]
    },
    {
     "name": "stdout",
     "output_type": "stream",
     "text": [
      "2 is prime\n"
     ]
    }
   ],
   "source": [
    "#prime number or not\n",
    "num=int(input(\"enter the number:\"))\n",
    "for i in range(2,num):\n",
    "    if(num%i)==0:\n",
    "        print(num,\"is not prime\")\n",
    "        break\n",
    "else:\n",
    "     print(num,\"is prime\")"
   ]
  },
  {
   "cell_type": "code",
   "execution_count": 21,
   "id": "69e47054-cdb3-4098-8786-176c200f2f16",
   "metadata": {},
   "outputs": [
    {
     "name": "stdin",
     "output_type": "stream",
     "text": [
      " 23\n"
     ]
    },
    {
     "name": "stdout",
     "output_type": "stream",
     "text": [
      "A is a prime\n",
      "A is a prime\n",
      "A is a prime\n",
      "A is a prime\n",
      "A is a prime\n",
      "A is a prime\n",
      "A is a prime\n",
      "A is a prime\n",
      "A is a prime\n"
     ]
    }
   ],
   "source": [
    "a=int(input())\n",
    "\n",
    "for i in range(2,int(a/2)):\n",
    "    if a%i==0:\n",
    "        print(\"a is not a prime\")\n",
    "        break\n",
    "    else:\n",
    "        print(\"A is a prime\")\n"
   ]
  },
  {
   "cell_type": "code",
   "execution_count": 24,
   "id": "8e324247-77ea-4549-b07e-2a648f6a2165",
   "metadata": {},
   "outputs": [
    {
     "ename": "NameError",
     "evalue": "name 'create_file' is not defined",
     "output_type": "error",
     "traceback": [
      "\u001b[1;31m---------------------------------------------------------------------------\u001b[0m",
      "\u001b[1;31mNameError\u001b[0m                                 Traceback (most recent call last)",
      "Cell \u001b[1;32mIn[24], line 5\u001b[0m\n\u001b[0;32m      2\u001b[0m     filename \u001b[38;5;241m=\u001b[39m\u001b[38;5;124m\"\u001b[39m\u001b[38;5;124mexample.txt\u001b[39m\u001b[38;5;124m\"\u001b[39m\n\u001b[0;32m      3\u001b[0m     new_filename\u001b[38;5;241m=\u001b[39m\u001b[38;5;124m\"\u001b[39m\u001b[38;5;124mnew_example.txt\u001b[39m\u001b[38;5;124m\"\u001b[39m\n\u001b[1;32m----> 5\u001b[0m \u001b[43mcreate_file\u001b[49m(filename)\n\u001b[0;32m      6\u001b[0m read_file(filename)\n\u001b[0;32m      7\u001b[0m append_file(filename, \u001b[38;5;124m\"\u001b[39m\u001b[38;5;124mthis is some additional text.\u001b[39m\u001b[38;5;130;01m\\n\u001b[39;00m\u001b[38;5;124m\"\u001b[39m)\n",
      "\u001b[1;31mNameError\u001b[0m: name 'create_file' is not defined"
     ]
    }
   ],
   "source": [
    "if __name__ =='__main__':\n",
    "    filename =\"example.txt\"\n",
    "    new_filename=\"new_example.txt\"\n",
    "\n",
    "create_file(filename)\n",
    "read_file(filename)\n",
    "append_file(filename, \"this is some additional text.\\n\")\n",
    "read_file(filename)\n",
    "rename_file(filename,new_filename)\n",
    "read_file(new_filename)\n",
    "#delete_file(new_filename)"
   ]
  },
  {
   "cell_type": "code",
   "execution_count": 25,
   "id": "3287249c-5a49-44fb-84a1-3e804b79b1ce",
   "metadata": {},
   "outputs": [],
   "source": [
    "import os\n",
    "\n",
    "with open(\"file1.txt\",'w') as f:\n",
    "    f.write(\"This is first text in file\")\n",
    "    f.close()"
   ]
  },
  {
   "cell_type": "code",
   "execution_count": 26,
   "id": "c6b98c83-598c-48ea-b2f7-c004b5e60f60",
   "metadata": {},
   "outputs": [],
   "source": [
    "import os\n",
    "\n",
    "os.remove(\"file1.txt\")"
   ]
  },
  {
   "cell_type": "code",
   "execution_count": 30,
   "id": "57a0549a-aa58-4fd9-a76a-95174cda0834",
   "metadata": {},
   "outputs": [],
   "source": [
    "import os\n",
    "\n",
    "with open(\"file2.txt\",'w') as f:\n",
    "    f.write(\"This is the first text file created by zoha \")\n",
    "    f.close()"
   ]
  },
  {
   "cell_type": "code",
   "execution_count": 1,
   "id": "14ab558d-46f4-404c-80fb-726d895e6f48",
   "metadata": {},
   "outputs": [],
   "source": [
    "import os\n",
    "\n",
    "os.remove(\"file2.txt\")"
   ]
  },
  {
   "cell_type": "code",
   "execution_count": 1,
   "id": "887424ac-dbb9-4213-ac53-08452a8a3980",
   "metadata": {},
   "outputs": [],
   "source": [
    "file_name = \"zoha.txt\"\n",
    "\n",
    "with open(file_name, \"w\") as f:\n",
    "    f.write(\"Hello, world!\\n\")\n",
    "    f.write(\"This is a new file created using Python.\")\n"
   ]
  },
  {
   "cell_type": "code",
   "execution_count": 6,
   "id": "a09f4b2e-7cf5-4137-9988-4bd42d7c3a25",
   "metadata": {},
   "outputs": [],
   "source": [
    "import os\n",
    "\n",
    "os.remove(\"example.txt\")\n",
    "os.remove(\"zoha.txt\")"
   ]
  },
  {
   "cell_type": "code",
   "execution_count": 1,
   "id": "986abb09-b1c1-4c1b-ad31-d71aea0da15c",
   "metadata": {},
   "outputs": [],
   "source": [
    "import os\n",
    "\n",
    "os.remove(\"banana\")\n"
   ]
  },
  {
   "cell_type": "code",
   "execution_count": 2,
   "id": "928c69c7-ade0-48a3-9fea-6c5dddff09ca",
   "metadata": {},
   "outputs": [],
   "source": [
    "file_name = \"FruitNames.txt\"\n",
    "\n",
    "\n",
    "with open(file_name, 'w') as file:\n",
    "    file.write(\"Apple\\nBanana\\nMango\\nGrapes\\n\")\n",
    "\n",
    "\n",
    "with open(file_name, 'r') as file:\n",
    "    content = file.read()\n",
    "\n",
    "\n",
    "updated_content = content.replace(\"Banana\", \"Watermelon\")\n",
    "\n",
    "\n",
    "with open(file_name, 'w') as file:\n",
    "    file.write(updated_content)"
   ]
  },
  {
   "cell_type": "code",
   "execution_count": 4,
   "id": "0f35ecd3-400a-467d-94e2-30a55afb930e",
   "metadata": {},
   "outputs": [],
   "source": [
    "import os\n",
    "\n",
    "os.remove(\"fruitnames.txt\")"
   ]
  },
  {
   "cell_type": "code",
   "execution_count": null,
   "id": "c76671f4-be41-4324-8c2d-a4f7e173e84a",
   "metadata": {},
   "outputs": [],
   "source": []
  }
 ],
 "metadata": {
  "kernelspec": {
   "display_name": "Python 3 (ipykernel)",
   "language": "python",
   "name": "python3"
  },
  "language_info": {
   "codemirror_mode": {
    "name": "ipython",
    "version": 3
   },
   "file_extension": ".py",
   "mimetype": "text/x-python",
   "name": "python",
   "nbconvert_exporter": "python",
   "pygments_lexer": "ipython3",
   "version": "3.12.3"
  }
 },
 "nbformat": 4,
 "nbformat_minor": 5
}
