{
 "cells": [
  {
   "cell_type": "code",
   "execution_count": 5,
   "id": "a50f3c55-e55c-4328-8248-985abb8c415b",
   "metadata": {},
   "outputs": [
    {
     "name": "stdin",
     "output_type": "stream",
     "text": [
      "enter your name: zoha\n",
      "enter your age: 18\n"
     ]
    },
    {
     "name": "stdout",
     "output_type": "stream",
     "text": [
      "zoha\n",
      "you are eligible\n"
     ]
    }
   ],
   "source": [
    "Name=input(\"enter your name:\")\n",
    "age=int(input(\"enter your age:\"))\n",
    "\n",
    "\n",
    "if age>=18:\n",
    "    print(Name)\n",
    "    print(\"you are eligible\")\n",
    "else:\n",
    "    print(Name)\n",
    "    print(\"you are not eligible\")\n",
    "\n"
   ]
  },
  {
   "cell_type": "code",
   "execution_count": 12,
   "id": "1d7b90a2-a5ff-44be-bcae-905307018bd0",
   "metadata": {},
   "outputs": [
    {
     "name": "stdin",
     "output_type": "stream",
     "text": [
      " 3\n",
      " 3\n",
      " 1\n"
     ]
    },
    {
     "name": "stdout",
     "output_type": "stream",
     "text": [
      "b is largest\n"
     ]
    }
   ],
   "source": [
    "a=int(input())\n",
    "b=int(input())\n",
    "c=int(input())\n",
    "\n",
    "if a>b:\n",
    "    if a>c:\n",
    "        print(\"a is largest\")\n",
    "    else:\n",
    "        print(\"c is largest\")\n",
    "else:\n",
    "    if b>c:\n",
    "        print(\"b is largest\")\n",
    "    else:\n",
    "        print(\"c is largest\")\n"
   ]
  },
  {
   "cell_type": "code",
   "execution_count": 1,
   "id": "99937f3e-ac92-44b5-aa90-6c223720f91b",
   "metadata": {},
   "outputs": [
    {
     "ename": "IndentationError",
     "evalue": "expected an indented block after 'match' statement on line 1 (213062771.py, line 2)",
     "output_type": "error",
     "traceback": [
      "\u001b[1;36m  Cell \u001b[1;32mIn[1], line 2\u001b[1;36m\u001b[0m\n\u001b[1;33m    case 1:print(\"sundy\")\u001b[0m\n\u001b[1;37m    ^\u001b[0m\n\u001b[1;31mIndentationError\u001b[0m\u001b[1;31m:\u001b[0m expected an indented block after 'match' statement on line 1\n"
     ]
    }
   ],
   "source": [
    "Day= int(input(\"enter the Day number: \"))\n",
    "\n",
    "match Day:\n",
    "case 1:print(\"sunday\")\n",
    "    case 2:print(\"monday\")\n",
    "        case 3:(\"tuesday\")\n",
    "            case 4:(\"wednesday\")\n",
    "                case 5:(\"thursday\")\n",
    "                    case 6:(\"friday\")\n",
    "                        case 7:(\"saturday\")\n",
    "                            case _ if Day == 10:\n",
    "                                print(\"ten\")\n",
    "                                case _ if Day >=13 and Day<=19:\n",
    "                                \n",
    "                                \n",
    "    \n"
   ]
  },
  {
   "cell_type": "code",
   "execution_count": 1,
   "id": "f7d3de42-7b6f-4e96-88df-744ae04893cd",
   "metadata": {},
   "outputs": [
    {
     "name": "stdout",
     "output_type": "stream",
     "text": [
      "*\n",
      "**\n",
      "***\n",
      "****\n",
      "*****\n"
     ]
    }
   ],
   "source": [
    "rows = 5\n",
    "for i in range(1,rows+1):\n",
    "    print(\"*\" * i)"
   ]
  },
  {
   "cell_type": "code",
   "execution_count": 2,
   "id": "8435f04c-c010-400b-8f2a-b5c09955731f",
   "metadata": {},
   "outputs": [
    {
     "name": "stdout",
     "output_type": "stream",
     "text": [
      "0\n",
      "1\n",
      "2\n",
      "3\n",
      "4\n",
      "5\n",
      "6\n",
      "7\n",
      "8\n",
      "9\n",
      "0   1\n",
      "0   2\n",
      "0   3\n",
      "0   4\n",
      "0   5\n",
      "0   6\n",
      "0   7\n",
      "0   8\n",
      "0   9\n",
      "1   1\n",
      "1   2\n",
      "1   3\n",
      "1   4\n",
      "1   5\n",
      "1   6\n",
      "1   7\n",
      "1   8\n",
      "1   9\n",
      "2   1\n",
      "2   2\n",
      "2   3\n",
      "2   4\n",
      "2   5\n",
      "2   6\n",
      "2   7\n",
      "2   8\n",
      "2   9\n",
      "3   1\n",
      "3   2\n",
      "3   3\n",
      "3   4\n",
      "3   5\n",
      "3   6\n",
      "3   7\n",
      "3   8\n",
      "3   9\n",
      "4   1\n",
      "4   2\n",
      "4   3\n",
      "4   4\n",
      "4   5\n",
      "4   6\n",
      "4   7\n",
      "4   8\n",
      "4   9\n",
      "5   1\n",
      "5   2\n",
      "5   3\n",
      "5   4\n",
      "5   5\n",
      "5   6\n",
      "5   7\n",
      "5   8\n",
      "5   9\n",
      "6   1\n",
      "6   2\n",
      "6   3\n",
      "6   4\n",
      "6   5\n",
      "6   6\n",
      "6   7\n",
      "6   8\n",
      "6   9\n",
      "7   1\n",
      "7   2\n",
      "7   3\n",
      "7   4\n",
      "7   5\n",
      "7   6\n",
      "7   7\n",
      "7   8\n",
      "7   9\n",
      "8   1\n",
      "8   2\n",
      "8   3\n",
      "8   4\n",
      "8   5\n",
      "8   6\n",
      "8   7\n",
      "8   8\n",
      "8   9\n",
      "9   1\n",
      "9   2\n",
      "9   3\n",
      "9   4\n",
      "9   5\n",
      "9   6\n",
      "9   7\n",
      "9   8\n",
      "9   9\n"
     ]
    }
   ],
   "source": [
    "x=0\n",
    "while x<10:\n",
    "    print(x)\n",
    "    x=x+1\n",
    "\n",
    "for y in range(0,10):\n",
    "    for x in range(1,10):\n",
    "        print(y,\" \",x)"
   ]
  },
  {
   "cell_type": "code",
   "execution_count": 14,
   "id": "8468ea50-02cb-4733-825d-340a2faad60e",
   "metadata": {},
   "outputs": [
    {
     "name": "stdin",
     "output_type": "stream",
     "text": [
      "Enter the number of terms:  10\n"
     ]
    },
    {
     "name": "stdout",
     "output_type": "stream",
     "text": [
      "0 1 1 2 3 5 8 13 21 34 "
     ]
    }
   ],
   "source": [
    "num_terms = int(input(\"Enter the number of terms: \"))\n",
    "\n",
    "a, b = 0, 1\n",
    "\n",
    "\n",
    "print(a, b, end=\" \")\n",
    "\n",
    "for _ in range(2, num_terms):\n",
    "    next_term = a + b\n",
    "    print(next_term, end=\" \")\n",
    "    \n",
    "    \n",
    "    a, b = b, next_term"
   ]
  },
  {
   "cell_type": "code",
   "execution_count": 17,
   "id": "1e8c3c07-c278-4f0d-a515-8f0b14c19230",
   "metadata": {},
   "outputs": [
    {
     "name": "stdin",
     "output_type": "stream",
     "text": [
      " 4\n",
      " 5\n"
     ]
    },
    {
     "name": "stdout",
     "output_type": "stream",
     "text": [
      "9\n",
      "11\n"
     ]
    }
   ],
   "source": [
    "def abcd(a,b=7):\n",
    "    c=a+b\n",
    "    print(c)\n",
    "    return \n",
    "\n",
    "\n",
    "A=int(input())\n",
    "B=int(input())\n",
    "\n",
    "\n",
    "#print(abcd(A,B))\n",
    "abcd(A,B)\n",
    "abcd(A)\n",
    "    \n",
    "    \n"
   ]
  },
  {
   "cell_type": "code",
   "execution_count": 1,
   "id": "6081fac3-fbf1-454b-b2e9-70d88fed8782",
   "metadata": {},
   "outputs": [
    {
     "name": "stdin",
     "output_type": "stream",
     "text": [
      "enter the value of a: 23\n",
      "enter the value of b: 10\n",
      "enter the operator: 3\n"
     ]
    },
    {
     "name": "stdout",
     "output_type": "stream",
     "text": [
      "invalid choice\n"
     ]
    }
   ],
   "source": [
    "#arithmetic operations\n",
    "a=int(input(\"enter the value of a:\"))\n",
    "b=int(input(\"enter the value of b:\"))\n",
    "oper=input(\"enter the operator:\")\n",
    "match oper:\n",
    "           case \"+\":print(\"sum=\",a+b)\n",
    "           case \"-\":print(\"difference=\",a-b)\n",
    "           case \"*\":print(\"product=\",a*b)\n",
    "           case \"/\":print(\"quotient=\",a/b)\n",
    "           case \"%\":print(\"remainder=\",a%b)\n",
    "           case \"^\":print(\"power=\",a ** b)\n",
    "           case _ :print(\"invalid choice\") "
   ]
  },
  {
   "cell_type": "code",
   "execution_count": 2,
   "id": "6f23e9f2-f02e-41ef-94e0-0e2257f56f38",
   "metadata": {},
   "outputs": [
    {
     "name": "stdin",
     "output_type": "stream",
     "text": [
      "enter a character: 4\n"
     ]
    },
    {
     "name": "stdout",
     "output_type": "stream",
     "text": [
      "character type= numeric\n"
     ]
    }
   ],
   "source": [
    "#type of input\n",
    "def identify_character(char):\n",
    "    if char.islower():\n",
    "        return \"lower case\"\n",
    "    elif char.isupper():\n",
    "        return \"upper case\"\n",
    "    elif char.isdigit():\n",
    "        return \"numeric\"\n",
    "    else:\n",
    "        return \"special character\"\n",
    "input=input(\"enter a character:\")\n",
    "print(\"character type=\",identify_character(input))   "
   ]
  },
  {
   "cell_type": "code",
   "execution_count": 4,
   "id": "23ec2ffb-a76f-4eb0-a752-697e51bd3d44",
   "metadata": {},
   "outputs": [
    {
     "ename": "TypeError",
     "evalue": "'str' object is not callable",
     "output_type": "error",
     "traceback": [
      "\u001b[1;31m---------------------------------------------------------------------------\u001b[0m",
      "\u001b[1;31mTypeError\u001b[0m                                 Traceback (most recent call last)",
      "Cell \u001b[1;32mIn[4], line 2\u001b[0m\n\u001b[0;32m      1\u001b[0m \u001b[38;5;66;03m#palindrome or not\u001b[39;00m\n\u001b[1;32m----> 2\u001b[0m n\u001b[38;5;241m=\u001b[39m\u001b[38;5;28mint\u001b[39m(\u001b[38;5;28;43minput\u001b[39;49m\u001b[43m(\u001b[49m\u001b[38;5;124;43m\"\u001b[39;49m\u001b[38;5;124;43menter your number:\u001b[39;49m\u001b[38;5;124;43m\"\u001b[39;49m\u001b[43m)\u001b[49m)\n\u001b[0;32m      3\u001b[0m m\u001b[38;5;241m=\u001b[39mn\n\u001b[0;32m      4\u001b[0m rev\u001b[38;5;241m=\u001b[39m\u001b[38;5;241m0\u001b[39m\n",
      "\u001b[1;31mTypeError\u001b[0m: 'str' object is not callable"
     ]
    }
   ],
   "source": [
    "#palindrome or not\n",
    "n=int(input(\"enter your number:\"))\n",
    "m=n\n",
    "rev=0\n",
    "while n>0:\n",
    "          rem=n%10\n",
    "          rev=rev*10+rem\n",
    "          n=n//10\n",
    "if m==rev:    \n",
    "      print(\"it is a palindrome\")\n",
    "else:\n",
    "     print(\"it is not a palindrome\")"
   ]
  },
  {
   "cell_type": "code",
   "execution_count": 5,
   "id": "6f77efb9-7374-48e5-a6a8-0ecac3416355",
   "metadata": {},
   "outputs": [
    {
     "ename": "TypeError",
     "evalue": "'str' object is not callable",
     "output_type": "error",
     "traceback": [
      "\u001b[1;31m---------------------------------------------------------------------------\u001b[0m",
      "\u001b[1;31mTypeError\u001b[0m                                 Traceback (most recent call last)",
      "Cell \u001b[1;32mIn[5], line 4\u001b[0m\n\u001b[0;32m      2\u001b[0m \u001b[38;5;28;01mdef\u001b[39;00m \u001b[38;5;21mreverse_digits\u001b[39m(number):\n\u001b[0;32m      3\u001b[0m     \u001b[38;5;28;01mreturn\u001b[39;00m \u001b[38;5;28mint\u001b[39m(\u001b[38;5;28mstr\u001b[39m(number)[::\u001b[38;5;241m-\u001b[39m\u001b[38;5;241m1\u001b[39m])\n\u001b[1;32m----> 4\u001b[0m number\u001b[38;5;241m=\u001b[39m\u001b[38;5;28mint\u001b[39m(\u001b[38;5;28;43minput\u001b[39;49m\u001b[43m(\u001b[49m\u001b[38;5;124;43m\"\u001b[39;49m\u001b[38;5;124;43menter a number:\u001b[39;49m\u001b[38;5;124;43m\"\u001b[39;49m\u001b[43m)\u001b[49m)\n\u001b[0;32m      5\u001b[0m \u001b[38;5;28mprint\u001b[39m(\u001b[38;5;124m\"\u001b[39m\u001b[38;5;124mreversed digits:\u001b[39m\u001b[38;5;124m\"\u001b[39m,reverse_digits(number))    \n",
      "\u001b[1;31mTypeError\u001b[0m: 'str' object is not callable"
     ]
    }
   ],
   "source": [
    "#reversing a given number\n",
    "def reverse_digits(number):\n",
    "    return int(str(number)[::-1])\n",
    "number=int(input(\"enter a number:\"))\n",
    "print(\"reversed digits:\",reverse_digits(number))    "
   ]
  },
  {
   "cell_type": "code",
   "execution_count": 6,
   "id": "cd1541e4-4f4b-4485-b1f9-5e204fe3bbf0",
   "metadata": {},
   "outputs": [
    {
     "ename": "TypeError",
     "evalue": "'str' object is not callable",
     "output_type": "error",
     "traceback": [
      "\u001b[1;31m---------------------------------------------------------------------------\u001b[0m",
      "\u001b[1;31mTypeError\u001b[0m                                 Traceback (most recent call last)",
      "Cell \u001b[1;32mIn[6], line 2\u001b[0m\n\u001b[0;32m      1\u001b[0m \u001b[38;5;66;03m#prime number or not\u001b[39;00m\n\u001b[1;32m----> 2\u001b[0m num\u001b[38;5;241m=\u001b[39m\u001b[38;5;28mint\u001b[39m(\u001b[38;5;28;43minput\u001b[39;49m\u001b[43m(\u001b[49m\u001b[38;5;124;43m\"\u001b[39;49m\u001b[38;5;124;43menter the number:\u001b[39;49m\u001b[38;5;124;43m\"\u001b[39;49m\u001b[43m)\u001b[49m)\n\u001b[0;32m      3\u001b[0m \u001b[38;5;28;01mfor\u001b[39;00m i \u001b[38;5;129;01min\u001b[39;00m \u001b[38;5;28mrange\u001b[39m(\u001b[38;5;241m2\u001b[39m,num):\n\u001b[0;32m      4\u001b[0m     \u001b[38;5;28;01mif\u001b[39;00m(num\u001b[38;5;241m%\u001b[39mi)\u001b[38;5;241m==\u001b[39m\u001b[38;5;241m0\u001b[39m:\n",
      "\u001b[1;31mTypeError\u001b[0m: 'str' object is not callable"
     ]
    }
   ],
   "source": [
    "#prime number or not\n",
    "num=int(input(\"enter the number:\"))\n",
    "for i in range(2,num):\n",
    "    if(num%i)==0:\n",
    "        print(num,\"is not prime\")\n",
    "        break\n",
    "else:\n",
    "     print(num,\"is prime\")"
   ]
  },
  {
   "cell_type": "code",
   "execution_count": 7,
   "id": "b408f5db-e9d5-453a-a5f6-2624d43006bf",
   "metadata": {},
   "outputs": [
    {
     "name": "stdout",
     "output_type": "stream",
     "text": [
      "7.933333333333334\n",
      "no error\n",
      "code executed!!\n"
     ]
    }
   ],
   "source": [
    "grades={8.4:\"zoha\",7.5:\"kev\",7.9:\"tanz\"}\n",
    "try:\n",
    "    total=sum(grades)\n",
    "    num=len(grades)\n",
    "    average=total/num\n",
    "    print(average)\n",
    "except ZeroDivisionError:\n",
    "    print(\"dictionary is empty!!\")\n",
    "else:\n",
    "    print(\"no error\")\n",
    "finally:\n",
    "    print(\"code executed!!\")\n",
    "\n",
    "\n",
    "\n"
   ]
  },
  {
   "cell_type": "code",
   "execution_count": 8,
   "id": "b6508267-acf6-4905-bc5d-d9d0e3f35b77",
   "metadata": {},
   "outputs": [
    {
     "name": "stdout",
     "output_type": "stream",
     "text": [
      "sum of the list is: 1\n",
      "sum of the list is: 3\n",
      "sum of the list is: 6\n",
      "sum of the list is: 10\n",
      "sum of the list is: 15\n",
      "sum of the list is: 21\n",
      "sum of the list is: 28\n",
      "unable to add string\n"
     ]
    }
   ],
   "source": [
    "list=[1,2,3,4,5,6,7,\"srujana\"]\n",
    "sum=0\n",
    "try:\n",
    "    for i in list:\n",
    "        sum=sum+i\n",
    "        print(\"sum of the list is:\",sum)  \n",
    "except:\n",
    "     print(\"unable to add string\")"
   ]
  },
  {
   "cell_type": "code",
   "execution_count": null,
   "id": "4a4e98d8-b514-44fc-b6c1-7e237adfb2cd",
   "metadata": {},
   "outputs": [],
   "source": []
  }
 ],
 "metadata": {
  "kernelspec": {
   "display_name": "Python 3 (ipykernel)",
   "language": "python",
   "name": "python3"
  },
  "language_info": {
   "codemirror_mode": {
    "name": "ipython",
    "version": 3
   },
   "file_extension": ".py",
   "mimetype": "text/x-python",
   "name": "python",
   "nbconvert_exporter": "python",
   "pygments_lexer": "ipython3",
   "version": "3.12.3"
  }
 },
 "nbformat": 4,
 "nbformat_minor": 5
}
