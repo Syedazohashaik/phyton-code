{
 "cells": [
  {
   "cell_type": "code",
   "execution_count": 2,
   "id": "04305d71-da4f-4072-8f7c-8113b52f4183",
   "metadata": {},
   "outputs": [
    {
     "name": "stdout",
     "output_type": "stream",
     "text": [
      "21\n"
     ]
    }
   ],
   "source": [
    "L=[2,4,6,1,3,7,4,6,9,3,6,8,3,6,4,1,3,9,6,4,5,6,8,3,7,3,6,8]\n",
    "\n",
    "#find the maximum sum of any 3 consecutive elements of thhis array.\n",
    "\n",
    "max=0\n",
    "for X in range(0,len(L)-2):\n",
    "    sum=L[X]+L[X+1]+L[x+2]\n",
    "    if(max<sum):\n",
    "        max=sum\n",
    "\n",
    "print(max)"
   ]
  },
  {
   "cell_type": "code",
   "execution_count": 9,
   "id": "4fbb5ce4-681f-4bfc-b3fd-0fa58fb4894e",
   "metadata": {},
   "outputs": [
    {
     "name": "stdin",
     "output_type": "stream",
     "text": [
      "enter the values: 6\n"
     ]
    },
    {
     "name": "stdout",
     "output_type": "stream",
     "text": [
      "41\n"
     ]
    }
   ],
   "source": [
    "x=int(input(\"enter the values:\"))\n",
    "max=0\n",
    "for X in range(0,len(L)-5):\n",
    "    sum=L[X]+L[X+1]+L[x+2]+L[x+3]+L[x+4]+L[x+5]\n",
    "    if(max<sum):\n",
    "        max=sum\n",
    "\n",
    "print(max)\n"
   ]
  },
  {
   "cell_type": "code",
   "execution_count": 11,
   "id": "0a25adf3-eb23-4e80-8906-b96e44a22934",
   "metadata": {},
   "outputs": [
    {
     "name": "stdin",
     "output_type": "stream",
     "text": [
      "enter consecutive number: 3\n"
     ]
    },
    {
     "name": "stdout",
     "output_type": "stream",
     "text": [
      "25\n"
     ]
    }
   ],
   "source": [
    "L=[2,4,6,1,3,7,4,6,9,3,6,8,3,6,4,1,3,9,6,4,5,6,8,3,7,3,6,8,2,3,5,7,9,1,5,7,2,3,9,7,9,1,2,6,7,9,1,2,3,4,5,6,3,1,2,3,4,1,3,4,6,9,1,3,]\n",
    "\n",
    "max=0\n",
    "\n",
    "con=int(input('enter consecutive number:'))\n",
    "\n",
    "for x in range(0,len(L)-con):\n",
    "    s=0\n",
    "    for j in range(0,con):\n",
    "        s=s+L[x+j]\n",
    "    if max<s:\n",
    "        max=s\n",
    "\n",
    "print(max)"
   ]
  },
  {
   "cell_type": "code",
   "execution_count": 1,
   "id": "9a9a7a80-00d8-439d-b6d9-5ba6d5314678",
   "metadata": {},
   "outputs": [
    {
     "name": "stdout",
     "output_type": "stream",
     "text": [
      "Sorted array is: [11, 12, 22, 25, 34, 64, 90]\n"
     ]
    }
   ],
   "source": [
    "def bubble_sort(arr):\n",
    "    n = len(arr)\n",
    "    \n",
    "    for i in range(n):\n",
    "        \n",
    "        for j in range(0, n-i-1):\n",
    "        \n",
    "            if arr[j] > arr[j+1]:\n",
    "                arr[j], arr[j+1] = arr[j+1], arr[j]\n",
    "\n",
    "\n",
    "arr = [64, 34, 25, 12, 22, 11, 90]\n",
    "bubble_sort(arr)\n",
    "print(\"Sorted array is:\", arr)\n",
    "\n"
   ]
  },
  {
   "cell_type": "code",
   "execution_count": null,
   "id": "9f82533d-3a23-4fe5-be80-13086413f6fd",
   "metadata": {},
   "outputs": [],
   "source": []
  }
 ],
 "metadata": {
  "kernelspec": {
   "display_name": "Python 3 (ipykernel)",
   "language": "python",
   "name": "python3"
  },
  "language_info": {
   "codemirror_mode": {
    "name": "ipython",
    "version": 3
   },
   "file_extension": ".py",
   "mimetype": "text/x-python",
   "name": "python",
   "nbconvert_exporter": "python",
   "pygments_lexer": "ipython3",
   "version": "3.12.3"
  }
 },
 "nbformat": 4,
 "nbformat_minor": 5
}
