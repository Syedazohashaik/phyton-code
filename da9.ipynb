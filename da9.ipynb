{
 "cells": [
  {
   "cell_type": "code",
   "execution_count": 1,
   "id": "015c7cc0-4fbf-4db8-abe5-2a713637e884",
   "metadata": {},
   "outputs": [
    {
     "name": "stdout",
     "output_type": "stream",
     "text": [
      "Original string: syeda zoha shaik\n",
      "Reversed string: kiahs ahoz adeys\n"
     ]
    }
   ],
   "source": [
    "def reverse_string(input_str):\n",
    "    stack = []\n",
    "    for char in input_str:\n",
    "        stack.append(char)\n",
    "    \n",
    "    reversed_str = ''\n",
    "    while stack:\n",
    "        reversed_str += stack.pop()\n",
    "    \n",
    "    return reversed_str\n",
    "\n",
    "input_str = \"syeda zoha shaik\"\n",
    "reversed_str = reverse_string(input_str)\n",
    "print(\"Original string:\", input_str)\n",
    "print(\"Reversed string:\", reversed_str)"
   ]
  },
  {
   "cell_type": "code",
   "execution_count": 2,
   "id": "cdda2022-4f4e-4a4d-bcb9-31fd9654b51d",
   "metadata": {},
   "outputs": [
    {
     "name": "stdin",
     "output_type": "stream",
     "text": [
      " 3\n"
     ]
    },
    {
     "name": "stdout",
     "output_type": "stream",
     "text": [
      "3"
     ]
    }
   ],
   "source": [
    "a=input()\n",
    "stack=[]\n",
    "for e in a:\n",
    "    stack.append(e)\n",
    "while len(stack)>0:\n",
    "    print(stack.pop(),end=\"\")"
   ]
  },
  {
   "cell_type": "code",
   "execution_count": 4,
   "id": "e2a29d4e-64fe-4ac0-b8fe-33c4a3c217fa",
   "metadata": {},
   "outputs": [
    {
     "name": "stdin",
     "output_type": "stream",
     "text": [
      " 8\n"
     ]
    },
    {
     "name": "stdout",
     "output_type": "stream",
     "text": [
      "8 "
     ]
    }
   ],
   "source": [
    "a=input()\n",
    "stack=[]\n",
    "for e in a.split():\n",
    "    stack.append(e)\n",
    "while len(stack)>0:\n",
    "    print(stack.pop(),end=\" \")"
   ]
  },
  {
   "cell_type": "code",
   "execution_count": null,
   "id": "8bade479-daca-43f5-ab1e-9d24d1de19f9",
   "metadata": {},
   "outputs": [],
   "source": [
    "exp =input()\n",
    "s=[]\n",
    "\n"
   ]
  },
  {
   "cell_type": "code",
   "execution_count": null,
   "id": "48fd81c9-1022-4ccf-bcb0-2056451799f6",
   "metadata": {},
   "outputs": [],
   "source": [
    "In a arcade game there is a king who spelled by a with that whenever he eat he have to take care of what is sequence of his food intake.\n",
    "if he eats similar food one after other it will cancel out the its effect and total energy was decreased.\n",
    "your task is to determine the total energy of the king after his meal\n",
    "\n",
    "example:\n"
   ]
  },
  {
   "cell_type": "code",
   "execution_count": 8,
   "id": "d6273c95-6b1e-4956-9fc4-7081d73db0ca",
   "metadata": {},
   "outputs": [
    {
     "ename": "SyntaxError",
     "evalue": "expected ':' (3948117783.py, line 9)",
     "output_type": "error",
     "traceback": [
      "\u001b[1;36m  Cell \u001b[1;32mIn[8], line 9\u001b[1;36m\u001b[0m\n\u001b[1;33m    else\u001b[0m\n\u001b[1;37m        ^\u001b[0m\n\u001b[1;31mSyntaxError\u001b[0m\u001b[1;31m:\u001b[0m expected ':'\n"
     ]
    }
   ],
   "source": [
    "a=[item for item in input().split()]\n",
    "print(a)\n",
    "s=[]\n",
    "for item in a:\n",
    "    if not s:\n",
    "        s.append(item)\n",
    "    elif s[-1] == item:\n",
    "        s.pop()\n",
    "    else\n",
    "        s.append(item)\n",
    "\n",
    "print(len(s),s)\n"
   ]
  },
  {
   "cell_type": "code",
   "execution_count": 5,
   "id": "e14d2f67-4d49-4b45-a941-aac4cdb155cf",
   "metadata": {},
   "outputs": [
    {
     "name": "stdin",
     "output_type": "stream",
     "text": [
      " A D C R R A A D R D C C\n"
     ]
    },
    {
     "name": "stdout",
     "output_type": "stream",
     "text": [
      "1 ['A']\n"
     ]
    }
   ],
   "source": [
    "a=[item for item in input().split()]\n",
    "s=[]\n",
    "for item in a:\n",
    "    if not s:\n",
    "        s.append(item)\n",
    "    elif s[-1] == item:\n",
    "        s.pop()\n",
    "\n",
    "print(len(s),s)"
   ]
  },
  {
   "cell_type": "code",
   "execution_count": 9,
   "id": "8c028793-24a6-4cfd-aa3f-d94fe1734bc0",
   "metadata": {},
   "outputs": [
    {
     "name": "stdout",
     "output_type": "stream",
     "text": [
      "True\n",
      "True\n",
      "True\n",
      "True\n"
     ]
    }
   ],
   "source": [
    "def check_balance(s):\n",
    "    stack = []\n",
    "    for char in s:\n",
    "        if char == '(':\n",
    "            stack.append('(')\n",
    "        elif char == ')':\n",
    "            if not stack or stack.pop() != '(':\n",
    "                return False\n",
    "    return len(stack) == 0\n",
    "\n",
    "# Test cases\n",
    "print(check_balance(\"()\"))  # True\n",
    "print(check_balance(\"{[()]}\"))  # True\n",
    "print(check_balance(\"([)]\"))  # False\n",
    "print(check_balance(\"({}[])\"))  # True\n"
   ]
  },
  {
   "cell_type": "code",
   "execution_count": 19,
   "id": "56bb3896-d9d7-446a-861e-54abbea60d40",
   "metadata": {},
   "outputs": [
    {
     "name": "stdin",
     "output_type": "stream",
     "text": [
      " {([])}\n"
     ]
    },
    {
     "name": "stdout",
     "output_type": "stream",
     "text": [
      "valid\n"
     ]
    }
   ],
   "source": [
    "a=input()\n",
    "s=[]\n",
    "for e in s:\n",
    "    if e =='('or e =='{' or e == '[':\n",
    "        s.append(e)\n",
    "    elif e == ')' or e =='}' or e == '}':\n",
    "        if e==s[-1]:\n",
    "            s.pop()\n",
    "        else:\n",
    "            break;\n",
    "    else:\n",
    "        continue\n",
    "\n",
    "if not s:\n",
    "    print(\"valid\")\n",
    "else:\n",
    "    print(\"invalid\")"
   ]
  },
  {
   "cell_type": "code",
   "execution_count": 22,
   "id": "022b6acc-cb98-4ea0-9ada-358f8598ac17",
   "metadata": {},
   "outputs": [
    {
     "name": "stdin",
     "output_type": "stream",
     "text": [
      " {[()}}\n"
     ]
    },
    {
     "name": "stdout",
     "output_type": "stream",
     "text": [
      "invalid\n"
     ]
    }
   ],
   "source": [
    "a = input()\n",
    "s = []\n",
    "\n",
    "for e in a:\n",
    "    if e == '(' or e == '{' or e == '[':\n",
    "        s.append(e)\n",
    "    elif (e == ')' and s[-1] == '(') or (e == '}' and s[-1] == '{') or (e == ']' and s[-1] == '['):\n",
    "        if s:\n",
    "            s.pop()\n",
    "        else:\n",
    "            s.append(e)\n",
    "            break\n",
    "    else:\n",
    "        continue\n",
    "\n",
    "if not s:\n",
    "    print(\"Valid\")\n",
    "else:\n",
    "    print(\"invalid\")   "
   ]
  },
  {
   "cell_type": "code",
   "execution_count": null,
   "id": "92bff8a0-e396-4f3e-b193-dffcb17ccaa9",
   "metadata": {},
   "outputs": [],
   "source": []
  }
 ],
 "metadata": {
  "kernelspec": {
   "display_name": "Python 3 (ipykernel)",
   "language": "python",
   "name": "python3"
  },
  "language_info": {
   "codemirror_mode": {
    "name": "ipython",
    "version": 3
   },
   "file_extension": ".py",
   "mimetype": "text/x-python",
   "name": "python",
   "nbconvert_exporter": "python",
   "pygments_lexer": "ipython3",
   "version": "3.12.3"
  }
 },
 "nbformat": 4,
 "nbformat_minor": 5
}
