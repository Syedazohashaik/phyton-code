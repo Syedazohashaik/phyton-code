{
 "cells": [
  {
   "cell_type": "code",
   "execution_count": 1,
   "id": "26594c5c-d716-4ae7-bd5c-1c01127e719c",
   "metadata": {},
   "outputs": [
    {
     "name": "stdout",
     "output_type": "stream",
     "text": [
      "hello\n",
      "hi\n"
     ]
    }
   ],
   "source": [
    "#replacing contents of file using exception handling\n",
    "import os\n",
    "try:\n",
    "     with open(\"sample file.txt\",'w') as f:\n",
    "           f.write(\"hello\")\n",
    "except FileNotFoundError:\n",
    "             print(\"file not found\")\n",
    "with open(\"sample file.txt\",'r') as f:\n",
    "           a=f.read()\n",
    "           print(a)\n",
    "           a=a.replace(\"hello\",\"hi\")\n",
    "with open(\"sample file.txt\",'w') as f:\n",
    "           f.write(a)\n",
    "           print(a)"
   ]
  },
  {
   "cell_type": "code",
   "execution_count": null,
   "id": "12c97cc8-89ba-4d4c-8bf5-49e42740ee2b",
   "metadata": {},
   "outputs": [],
   "source": [
    "class laptop:\n",
    "    a=0  #global or class variable\n",
    "    def config(self):\n",
    "#self is universal to all the functions,else generates an error       \n",
    "        print(\"this is a HP laptop\")\n",
    "    def _init_(self,value):\n",
    "        self.b=value\n",
    "\n",
    "acer=laptop(60)\n",
    "print(acer.a)\n",
    "print(acer.b)"
   ]
  },
  {
   "cell_type": "code",
   "execution_count": 4,
   "id": "d773da3d-3182-4869-85e0-3a26c64242ac",
   "metadata": {},
   "outputs": [
    {
     "ename": "NameError",
     "evalue": "name '_name' is not defined",
     "output_type": "error",
     "traceback": [
      "\u001b[1;31m---------------------------------------------------------------------------\u001b[0m",
      "\u001b[1;31mNameError\u001b[0m                                 Traceback (most recent call last)",
      "Cell \u001b[1;32mIn[4], line 11\u001b[0m\n\u001b[0;32m      9\u001b[0m                \u001b[38;5;28mprint\u001b[39m(\u001b[38;5;124m\"\u001b[39m\u001b[38;5;124mram=\u001b[39m\u001b[38;5;124m\"\u001b[39m,\u001b[38;5;28mself\u001b[39m\u001b[38;5;241m.\u001b[39mram)\n\u001b[0;32m     10\u001b[0m                \u001b[38;5;28mprint\u001b[39m(\u001b[38;5;124m\"\u001b[39m\u001b[38;5;124mstorage=\u001b[39m\u001b[38;5;124m\"\u001b[39m,\u001b[38;5;28mself\u001b[39m\u001b[38;5;241m.\u001b[39mstorage)\n\u001b[1;32m---> 11\u001b[0m \u001b[38;5;28;01mif\u001b[39;00m \u001b[43m_name\u001b[49m\u001b[38;5;241m==\u001b[39m\u001b[38;5;124m\"\u001b[39m\u001b[38;5;124mmain_\u001b[39m\u001b[38;5;124m\"\u001b[39m:          \n\u001b[0;32m     12\u001b[0m        hp\u001b[38;5;241m=\u001b[39mlaptop(\u001b[38;5;124m\"\u001b[39m\u001b[38;5;124mi5\u001b[39m\u001b[38;5;124m\"\u001b[39m,\u001b[38;5;241m8\u001b[39m,\u001b[38;5;241m512\u001b[39m)\n\u001b[0;32m     13\u001b[0m        dell\u001b[38;5;241m=\u001b[39mlaptop(\u001b[38;5;124m\"\u001b[39m\u001b[38;5;124mi6\u001b[39m\u001b[38;5;124m\"\u001b[39m,\u001b[38;5;241m7\u001b[39m,\u001b[38;5;241m612\u001b[39m)\n",
      "\u001b[1;31mNameError\u001b[0m: name '_name' is not defined"
     ]
    }
   ],
   "source": [
    "class laptop:\n",
    "      def _init_(self,p,r,s):\n",
    "                 self.processor=p\n",
    "                 self.ram=r\n",
    "                 self.storage=s\n",
    "      def config(self):\n",
    "               print(\"configuration of laptop is:\")\n",
    "               print(\"processor=\",self.processor)\n",
    "               print(\"ram=\",self.ram)\n",
    "               print(\"storage=\",self.storage)\n",
    "if _name==\"main_\":          \n",
    "       hp=laptop(\"i5\",8,512)\n",
    "       dell=laptop(\"i6\",7,612)\n",
    "       asus=laptop(\"i12\",12,453)\n",
    "       hp.config()\n",
    "       dell.config()\n",
    "       asus.config()"
   ]
  },
  {
   "cell_type": "code",
   "execution_count": 5,
   "id": "12c3342b-3cd4-4439-8744-480887adbb99",
   "metadata": {},
   "outputs": [
    {
     "ename": "NameError",
     "evalue": "name '_name' is not defined",
     "output_type": "error",
     "traceback": [
      "\u001b[1;31m---------------------------------------------------------------------------\u001b[0m",
      "\u001b[1;31mNameError\u001b[0m                                 Traceback (most recent call last)",
      "Cell \u001b[1;32mIn[5], line 27\u001b[0m\n\u001b[0;32m     25\u001b[0m             \u001b[38;5;28;01melse\u001b[39;00m:\n\u001b[0;32m     26\u001b[0m                 \u001b[38;5;28mprint\u001b[39m(\u001b[38;5;124m\"\u001b[39m\u001b[38;5;124mstatus=\u001b[39m\u001b[38;5;124m\"\u001b[39m,\u001b[38;5;124m\"\u001b[39m\u001b[38;5;124mpass\u001b[39m\u001b[38;5;124m\"\u001b[39m)\n\u001b[1;32m---> 27\u001b[0m \u001b[38;5;28;01mif\u001b[39;00m \u001b[43m_name\u001b[49m\u001b[38;5;241m==\u001b[39m\u001b[38;5;124m\"\u001b[39m\u001b[38;5;124mmain_\u001b[39m\u001b[38;5;124m\"\u001b[39m:\n\u001b[0;32m     28\u001b[0m     s\u001b[38;5;241m=\u001b[39mstudent(\u001b[38;5;241m86\u001b[39m,\u001b[38;5;241m92\u001b[39m,\u001b[38;5;241m81\u001b[39m,\u001b[38;5;241m90\u001b[39m,\u001b[38;5;241m87\u001b[39m)\n\u001b[0;32m     29\u001b[0m     s\u001b[38;5;241m.\u001b[39mmarks()\n",
      "\u001b[1;31mNameError\u001b[0m: name '_name' is not defined"
     ]
    }
   ],
   "source": [
    "#create a class student which can hold the marks in 5 subjects and also create a function to print the marks and calculate the avg of 5 subjects\n",
    "class student:\n",
    "    \n",
    "    def _init_(self,eng,hin,math,soci,phy):\n",
    "                    self.english=eng\n",
    "                    self.hindi=hin\n",
    "                    self.maths=math\n",
    "                    self.social=soci\n",
    "                    self.physics=phy\n",
    "   \n",
    "    def marks(self):\n",
    "        print(\"the marks are:\")\n",
    "        print(\"english=\",self.english)\n",
    "        print(\"hindi=\",self.hindi)\n",
    "        print(\"maths=\",self.maths)\n",
    "        print(\"social=\",self.social)\n",
    "        print(\"physics=\",self.physics)\n",
    "    \n",
    "        \n",
    "    def avg(self):   \n",
    "            self.avg=((self.english+self.hindi+self.maths+self.social+self.physics)/5)\n",
    "            print(\"average=\",self.avg)\n",
    "            if(self.avg<36):\n",
    "                print(\"status=\",\"fail\")\n",
    "            else:\n",
    "                print(\"status=\",\"pass\")\n",
    "if _name==\"main_\":\n",
    "    s=student(86,92,81,90,87)\n",
    "    s.marks()\n",
    "    s.avg()"
   ]
  },
  {
   "cell_type": "code",
   "execution_count": 6,
   "id": "5a1b1ac5-987c-43be-a33a-82ab503794f7",
   "metadata": {},
   "outputs": [
    {
     "ename": "NameError",
     "evalue": "name '_name' is not defined",
     "output_type": "error",
     "traceback": [
      "\u001b[1;31m---------------------------------------------------------------------------\u001b[0m",
      "\u001b[1;31mNameError\u001b[0m                                 Traceback (most recent call last)",
      "Cell \u001b[1;32mIn[6], line 14\u001b[0m\n\u001b[0;32m     12\u001b[0m     \u001b[38;5;28;01mdef\u001b[39;00m \u001b[38;5;21m_init_\u001b[39m(\u001b[38;5;28mself\u001b[39m):\n\u001b[0;32m     13\u001b[0m         \u001b[38;5;28mprint\u001b[39m(\u001b[38;5;124m\"\u001b[39m\u001b[38;5;124mconstuction of class d\u001b[39m\u001b[38;5;124m\"\u001b[39m)\n\u001b[1;32m---> 14\u001b[0m \u001b[38;5;28;01mif\u001b[39;00m \u001b[43m_name\u001b[49m\u001b[38;5;241m==\u001b[39m\u001b[38;5;124m\"\u001b[39m\u001b[38;5;124mmain_\u001b[39m\u001b[38;5;124m\"\u001b[39m:\n\u001b[0;32m     15\u001b[0m     obj1\u001b[38;5;241m=\u001b[39mc()\n\u001b[0;32m     16\u001b[0m     obj2\u001b[38;5;241m=\u001b[39ma()\n",
      "\u001b[1;31mNameError\u001b[0m: name '_name' is not defined"
     ]
    }
   ],
   "source": [
    "class a:\n",
    "    def _init_(self):\n",
    "        print(\"construction of class a\")\n",
    "class b:        \n",
    "    def _init_(self):\n",
    "        print(\"construction of class b\")\n",
    "class c:\n",
    "    def _init_(self):\n",
    "        print(\"construction of  class c\")\n",
    "\n",
    "class d:        \n",
    "    def _init_(self):\n",
    "        print(\"constuction of class d\")\n",
    "if _name==\"main_\":\n",
    "    obj1=c()\n",
    "    obj2=a()\n",
    "    obj3=d()\n",
    "    obj4=b()"
   ]
  },
  {
   "cell_type": "code",
   "execution_count": null,
   "id": "10dad741-cd78-4390-8660-d64b01bf2af1",
   "metadata": {},
   "outputs": [],
   "source": [
    "class c:\n",
    "    def _init_(self):\n",
    "        print(\"construction of  class c\")\n",
    "    def abc(self,a,b=5):\n",
    "        print(\"fun of class c with\",a,b)\n",
    "ob=c()\n",
    "\n",
    "ob.abc(1,2)"
   ]
  },
  {
   "cell_type": "code",
   "execution_count": null,
   "id": "9025dd9e-ae24-4c25-9c85-a5da509f7b75",
   "metadata": {},
   "outputs": [],
   "source": [
    "#another way\n",
    "class c:\n",
    "    def _init_(self,a=20,b=10):\n",
    "        print(\"construction of  class c\")\n",
    "        self.x=a\n",
    "        self.y=b\n",
    "        print(self.x,self.y)\n",
    "ob=c()"
   ]
  },
  {
   "cell_type": "code",
   "execution_count": 7,
   "id": "f2fadb7d-09a8-4a9c-87d8-7dfe7fb3a1b6",
   "metadata": {},
   "outputs": [
    {
     "ename": "TypeError",
     "evalue": "proflaptop() takes no arguments",
     "output_type": "error",
     "traceback": [
      "\u001b[1;31m---------------------------------------------------------------------------\u001b[0m",
      "\u001b[1;31mTypeError\u001b[0m                                 Traceback (most recent call last)",
      "Cell \u001b[1;32mIn[7], line 19\u001b[0m\n\u001b[0;32m     16\u001b[0m            \u001b[38;5;28mself\u001b[39m\u001b[38;5;241m.\u001b[39mgraphic\u001b[38;5;241m=\u001b[39mgrap\n\u001b[0;32m     17\u001b[0m            \u001b[38;5;28msuper\u001b[39m()\u001b[38;5;241m.\u001b[39m_init_(p,r,s)\n\u001b[1;32m---> 19\u001b[0m proflap\u001b[38;5;241m=\u001b[39m\u001b[43mproflaptop\u001b[49m\u001b[43m(\u001b[49m\u001b[38;5;124;43m\"\u001b[39;49m\u001b[38;5;124;43m5hrs\u001b[39;49m\u001b[38;5;124;43m\"\u001b[39;49m\u001b[43m,\u001b[49m\u001b[38;5;124;43m\"\u001b[39;49m\u001b[38;5;124;43mi5\u001b[39;49m\u001b[38;5;124;43m\"\u001b[39;49m\u001b[43m,\u001b[49m\u001b[38;5;241;43m8\u001b[39;49m\u001b[43m,\u001b[49m\u001b[38;5;241;43m512\u001b[39;49m\u001b[43m)\u001b[49m\n\u001b[0;32m     20\u001b[0m gamlap\u001b[38;5;241m=\u001b[39mgamlaptop(\u001b[38;5;241m2\u001b[39m,\u001b[38;5;124m\"\u001b[39m\u001b[38;5;124mi5\u001b[39m\u001b[38;5;124m\"\u001b[39m,\u001b[38;5;241m8\u001b[39m,\u001b[38;5;241m512\u001b[39m)\n\u001b[0;32m     21\u001b[0m \u001b[38;5;28mprint\u001b[39m(\u001b[38;5;124m\"\u001b[39m\u001b[38;5;124mprofessional laptop is having:\u001b[39m\u001b[38;5;124m\"\u001b[39m,\n\u001b[0;32m     22\u001b[0m       proflap\u001b[38;5;241m.\u001b[39mprocessor, proflap\u001b[38;5;241m.\u001b[39mram,\n\u001b[0;32m     23\u001b[0m       proflap\u001b[38;5;241m.\u001b[39mstorage, proflap\u001b[38;5;241m.\u001b[39mbattery)\n",
      "\u001b[1;31mTypeError\u001b[0m: proflaptop() takes no arguments"
     ]
    }
   ],
   "source": [
    "#inheritance\n",
    "class laptop:\n",
    "    def _init_(self,p,r,s):\n",
    "        self.processor=p\n",
    "        self.ram=r\n",
    "        self.storage=s\n",
    "    \n",
    "class proflaptop(laptop):\n",
    "    def _init_(self,bat,p,r,s):\n",
    "            self.battery=bat\n",
    "            super()._init_(p,r,s)\n",
    "    \n",
    "            \n",
    "class gamlaptop(laptop):\n",
    "     def _init_(self,grap,p,r,s):\n",
    "           self.graphic=grap\n",
    "           super()._init_(p,r,s)\n",
    "\n",
    "proflap=proflaptop(\"5hrs\",\"i5\",8,512)\n",
    "gamlap=gamlaptop(2,\"i5\",8,512)\n",
    "print(\"professional laptop is having:\",\n",
    "      proflap.processor, proflap.ram,\n",
    "      proflap.storage, proflap.battery)\n",
    "print(\"gaming laptop is having:\",\n",
    "      gamlap.processor, gamlap.ram,\n",
    "      gamlap.storage, gamlap.graphic)"
   ]
  },
  {
   "cell_type": "code",
   "execution_count": null,
   "id": "5505ea4b-052e-4525-82fb-8d88c72f84ed",
   "metadata": {},
   "outputs": [],
   "source": [
    "#overloading\n",
    "class a:\n",
    "    def _init_(self):\n",
    "        print(\"constructor of class a\")\n",
    "    def show(self):\n",
    "        print(\"printing the show of a\")\n",
    "class b: \n",
    "    def _init_(self):\n",
    "        print(\"constructor of class b\")\n",
    "    def show(self):\n",
    "        print(\"printing the show of b\")\n",
    "class c(a):\n",
    "    def _init_(self):\n",
    "        print(\"constructor of class c\")\n",
    "    def show(self):\n",
    "        print(\"printing the show of c\")\n",
    "        super().show()\n",
    "class d:\n",
    "    def _init_(self):\n",
    "          print(\"constructor of class d\")\n",
    "    def show(self):\n",
    "          print(\"printing the show of d\")\n",
    "\n",
    "if _name==\"main_\":\n",
    "     ob1=d()"
   ]
  },
  {
   "cell_type": "code",
   "execution_count": null,
   "id": "216e55de-e7be-40e1-9350-94e432d122ee",
   "metadata": {},
   "outputs": [],
   "source": [
    "class ticket:\n",
    "   \n",
    "    def _init_(self,D):\n",
    "        self.distance = int(D)\n",
    "        self.farePrice = None\n",
    "\n",
    "class gen(ticket):\n",
    "    def _init_(self,D):\n",
    "        super()._init_(D)\n",
    "    def print_ticket(self):\n",
    "        self.farePrice=50+(self.distance*2)\n",
    "        return self.farePrice\n",
    "        \n",
    "\n",
    "\n",
    "class slp(gen):\n",
    "    def _init_(self,D):\n",
    "        super()._init_(D)\n",
    "\n",
    "    def print_ticket(self):\n",
    "        self.farePrice=super().print_ticket()+(2*self.distance)\n",
    "        return self.farePrice\n",
    "\n",
    "class AC(slp):\n",
    "    def _init_(self,D):\n",
    "        super()._init_(D)\n",
    "    def print_ticket(self):\n",
    "        self.farePrice=super().print_ticket()+(4*self.distance)\n",
    "        return self.farePrice\n",
    "\n",
    "class FC(AC):\n",
    "    def _init_(self,D):\n",
    "        super()._init_(D)\n",
    "    def print_ticket(self):\n",
    "        self.farePrice=super().print_ticket()+(5*self.distance)\n",
    "        return self.farePrice\n",
    "\n",
    "\n",
    "jur = FC( 500)\n",
    "print(\"Ticket booked Fare Price will be: \",jur.print_ticket())"
   ]
  },
  {
   "cell_type": "code",
   "execution_count": null,
   "id": "08ce6a70-eedc-4899-bd7e-175c7916880d",
   "metadata": {},
   "outputs": [],
   "source": []
  }
 ],
 "metadata": {
  "kernelspec": {
   "display_name": "Python 3 (ipykernel)",
   "language": "python",
   "name": "python3"
  },
  "language_info": {
   "codemirror_mode": {
    "name": "ipython",
    "version": 3
   },
   "file_extension": ".py",
   "mimetype": "text/x-python",
   "name": "python",
   "nbconvert_exporter": "python",
   "pygments_lexer": "ipython3",
   "version": "3.12.3"
  }
 },
 "nbformat": 4,
 "nbformat_minor": 5
}
